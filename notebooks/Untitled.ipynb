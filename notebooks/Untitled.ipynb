{
 "cells": [
  {
   "cell_type": "code",
   "execution_count": 2,
   "metadata": {},
   "outputs": [],
   "source": [
    "import pandas as pd\n",
    "import networkx as nx\n",
    "import numpy as np\n",
    "import os\n",
    "from collections import Counter\n",
    "from scipy import sparse\n",
    "import matplotlib.pyplot as plt\n",
    "from functools import reduce\n",
    "from operator import add\n",
    "from itertools import groupby\n",
    "from typing import Iterable, Any\n",
    "import seaborn as sns"
   ]
  },
  {
   "cell_type": "code",
   "execution_count": 3,
   "metadata": {},
   "outputs": [],
   "source": [
    "import warnings\n",
    "warnings.filterwarnings('error')"
   ]
  },
  {
   "cell_type": "code",
   "execution_count": 4,
   "metadata": {},
   "outputs": [],
   "source": [
    "import cProfile\n",
    "%load_ext line_profiler"
   ]
  },
  {
   "cell_type": "code",
   "execution_count": 5,
   "metadata": {},
   "outputs": [],
   "source": [
    "class bidict(dict):\n",
    "    def __init__(self, *args, **kwargs):\n",
    "        \n",
    "        super(bidict, self).__init__(*args, **kwargs)\n",
    "        self.inverse = {}\n",
    "        for key, value in self.items():\n",
    "            self.inverse.setdefault(value, []).append(key) \n",
    "\n",
    "    def __setitem__(self, key, value):\n",
    "        if key in self:\n",
    "            self.inverse[self[key]].remove(key) \n",
    "        super(bidict, self).__setitem__(key, value)\n",
    "        self.inverse.setdefault(value, []).append(key)        \n",
    "\n",
    "    def __delitem__(self, key):\n",
    "        self.inverse.setdefault(self[key], []).remove(key)\n",
    "        if self[key] in self.inverse and not self.inverse[self[key]]: \n",
    "            del self.inverse[self[key]]\n",
    "        super(bidict, self).__delitem__(key)"
   ]
  },
  {
   "cell_type": "code",
   "execution_count": 6,
   "metadata": {},
   "outputs": [],
   "source": [
    "def normalize(matrix: sparse.spmatrix) -> sparse.spmatrix:\n",
    "    \n",
    "    return matrix.T.multiply(1 / matrix.sum(axis=1)).T"
   ]
  },
  {
   "cell_type": "code",
   "execution_count": 7,
   "metadata": {},
   "outputs": [],
   "source": [
    "def steady_state(transition: sparse.spmatrix, damping: float = .85, tol: float = 1e-12) -> np.ndarray:\n",
    "\n",
    "    N = transition.shape[0]\n",
    "    antidamp = (1 - damping) / N\n",
    "    damped = normalize(transition) * damping\n",
    "    projection = np.ones(N, dtype=np.int8)\n",
    "    \n",
    "    previous_stationary = (projection / N) @ damped# + antidamp\n",
    "    stationary = previous_stationary @ damped# + antidamp\n",
    "\n",
    "    while np.linalg.norm(stationary - previous_stationary) > tol:\n",
    "        previous_stationary = stationary\n",
    "        stationary = stationary @ damped + antidamp\n",
    "\n",
    "    return stationary, damped + antidamp * sparse.csr_array((np.ones(damped.count_nonzero()), damped.indices, damped.indptr))"
   ]
  },
  {
   "cell_type": "code",
   "execution_count": 8,
   "metadata": {},
   "outputs": [],
   "source": [
    "def joint_distribution(states, adjacency):\n",
    "\n",
    "    return adjacency.T.multiply(states).T.tocsr()"
   ]
  },
  {
   "cell_type": "code",
   "execution_count": 9,
   "metadata": {},
   "outputs": [],
   "source": [
    "def _cluster_edges(nodes, edges):\n",
    "        \n",
    "        return [(neighbor, sum([weight[1] for weight in weights])) \n",
    "                for neighbor, weights in groupby(\n",
    "                    sorted([(nodes[edge], weight) \n",
    "                            for _, edge, weight in edges], \n",
    "                           key=lambda x: x[0]), \n",
    "                    key=lambda x: x[0])]"
   ]
  },
  {
   "cell_type": "code",
   "execution_count": 10,
   "metadata": {},
   "outputs": [],
   "source": [
    "def objective_part(joint: float, state: float) -> float:\n",
    "\n",
    "    try:\n",
    "        x = joint * np.log(joint / state ** 2)\n",
    "    except Warning:\n",
    "        x = 0.\n",
    "    \n",
    "    try:    \n",
    "        y = (state - joint) * np.log((state - joint) / state / (1 - state))\n",
    "    except Warning:\n",
    "        y = 0.\n",
    "    \n",
    "    return x + y"
   ]
  },
  {
   "cell_type": "code",
   "execution_count": 11,
   "metadata": {},
   "outputs": [],
   "source": [
    "def objective_change(link, node_joint, node_state, cluster_prop):\n",
    "    \n",
    "    joint = cluster_prop['joint']\n",
    "    state = cluster_prop['state']\n",
    "    current_objective = cluster_prop['objective']\n",
    "    \n",
    "    return objective_part(joint + link + node_joint, state + node_state) - current_objective"
   ]
  },
  {
   "cell_type": "code",
   "execution_count": 12,
   "metadata": {},
   "outputs": [],
   "source": [
    "def objective(graph) -> float:\n",
    "\n",
    "    membership = bidict(graph.nodes.data('cluster'))\n",
    "    result = 0.\n",
    "    for _, nodes in membership.inverse.items():\n",
    "        sub = graph.subgraph(nodes)\n",
    "        states = dict(sub.nodes(data='state'))\n",
    "        state = sum(states.values())\n",
    "        joint = sum([states[node] * sum([weight \n",
    "                                         for _, neighbor, weight in sub.edges(node, data='weight')])\n",
    "                    for node in nodes])\n",
    "        if joint > 0:\n",
    "            result += joint * np.log(joint / state ** 2)\n",
    "        if joint < state:\n",
    "            result += (state - joint) * np.log((state - joint) / state / (1 - state))\n",
    "    \n",
    "    return result"
   ]
  },
  {
   "cell_type": "code",
   "execution_count": 13,
   "metadata": {},
   "outputs": [],
   "source": [
    "def merge_graph(original_graph, clusters):\n",
    "    \n",
    "    graph = nx.Graph()\n",
    "    graph.add_nodes_from([(cluster, {'cluster': cluster, \n",
    "                                     'state': prop['state'],\n",
    "                                     'original_nodes': [node \n",
    "                                                        for _, nodes in \n",
    "                                                        original_graph.subgraph(prop['nodes']).nodes.data('original_nodes') \n",
    "                                                        for node in nodes]}) \n",
    "                          for cluster, prop in clusters.items()])\n",
    "    \n",
    "    graph.add_weighted_edges_from([(cluster, *link) for cluster, prop in clusters.items() \n",
    "                                   for link in _cluster_edges(original_graph.nodes.data('cluster'), \n",
    "                                                              original_graph.edges(prop['nodes'], data='weight'))])\n",
    "    \n",
    "    \n",
    "    return graph"
   ]
  },
  {
   "cell_type": "code",
   "execution_count": 14,
   "metadata": {},
   "outputs": [],
   "source": [
    "def louvain(network, tol=1e-6):\n",
    "    \n",
    "    graph = network.copy()\n",
    "    gain = 2 * tol\n",
    "    \n",
    "    while gain > tol:\n",
    "        \n",
    "        print(graph)\n",
    "        gain = 0                                                                                                                                                                                                                                                                                                                                                                                                                                                                                                                                                                                                                                                                                                                                                                                                                                                                                                                                                                                                                                                                                                            \n",
    "        change = True\n",
    "        current_clusters = {cluster: {'state': prop['state'],\n",
    "                                      'joint': graph.edges.get((cluster, cluster), dict()).get('weight', 0),\n",
    "                                      'nodes': [cluster]}\n",
    "                            for cluster, prop in graph.nodes(data=True)}\n",
    "        [cluster.update({'objective': objective_part(cluster['joint'], cluster['state'])}) \n",
    "         for cluster in current_clusters.values()]\n",
    "        while change:\n",
    "            \n",
    "            change = False\n",
    "            for node, prop in list(graph.nodes(data=True)):\n",
    "                \n",
    "                source = prop['cluster']\n",
    "                source_cluster = current_clusters[source]\n",
    "                node_state = prop['state']\n",
    "                node_joint = graph.edges.get((node, node), dict()).get('weight', 0)\n",
    "                cluster_links = dict(_cluster_edges(graph.nodes.data('cluster'), graph.edges(node, data='weight')))\n",
    "                internal_links = cluster_links.pop(source, 0)\n",
    "                \n",
    "                if cluster_links:\n",
    "                                        \n",
    "                    addons = {cluster: \n",
    "                              objective_change(link, \n",
    "                                               node_joint, node_state,\n",
    "                                               current_clusters[cluster])\n",
    "                              for cluster, link in cluster_links.items()}\n",
    "                    destination = max(addons, key=addons.get)\n",
    "                    expense = objective_change(-internal_links, 0, -node_state, source_cluster)\n",
    "                    single_gain = addons[destination] + expense\n",
    "                    if single_gain > 0:\n",
    "                        \n",
    "                        gain += single_gain\n",
    "                        change = True\n",
    "                        target_cluster = current_clusters[destination]\n",
    "                        \n",
    "                        nx.set_node_attributes(graph, {node: {'cluster': destination}})\n",
    "                        \n",
    "                        source_nodes = source_cluster['nodes']\n",
    "                        target_cluster['nodes'].append(source_nodes.pop(source_nodes.index(node)))\n",
    "                        target_cluster['state'] += node_state\n",
    "                        target_cluster['joint'] += node_joint + cluster_links[destination]\n",
    "                        target_cluster['objective'] += addons[destination]\n",
    "                        \n",
    "                        if source_nodes:\n",
    "                            source_cluster['state'] -= node_state\n",
    "                            source_cluster['joint'] -= internal_links\n",
    "                            source_cluster['objective'] += expense\n",
    "                        else:\n",
    "                            del current_clusters[source]\n",
    "        \n",
    "        graph = merge_graph(graph, current_clusters)\n",
    "        \n",
    "    return graph"
   ]
  },
  {
   "cell_type": "code",
   "execution_count": 15,
   "metadata": {},
   "outputs": [],
   "source": [
    "def membership_graph(original_graph, clustered_graph):\n",
    "    \n",
    "    graph = original_graph.copy()\n",
    "    nx.set_node_attributes(graph, dict((node, {'cluster': cluster})\n",
    "                                       for cluster, nodes in clustered_graph.nodes.data('original_nodes') \n",
    "                                       for node in nodes))\n",
    "    return graph"
   ]
  },
  {
   "cell_type": "code",
   "execution_count": 16,
   "metadata": {},
   "outputs": [],
   "source": [
    "def heat_bath(graph, steps, temperature):\n",
    "\n",
    "    choices = np.random.randint(len(graph), size=steps)\n",
    "\n",
    "    for node in choices:\n",
    "        cluster = graph.nodes[node]['cluster']\n",
    "        neighborhood, hamiltonians = zip(*_cluster_edges(graph.nodes.data('cluster'), \n",
    "                                        graph.edges(node, data='weight')))\n",
    "        accepts = np.exp(hamiltonians / temperature)\n",
    "        probas = np.cumsum(accepts) / sum(accepts)\n",
    "        destination = neighborhood[np.argmax(np.random.rand() < probas)]\n",
    "        graph.nodes[node]['cluster'] = destination\n",
    "\n",
    "    return graph"
   ]
  },
  {
   "cell_type": "code",
   "execution_count": 17,
   "metadata": {},
   "outputs": [],
   "source": [
    "def joint_graph(raw, directed=False):\n",
    "    \n",
    "    clusters = bidict(raw.nodes.data('cluster')).inverse\n",
    "    graph = nx.DiGraph() if directed else nx.Graph()\n",
    "    graph.add_nodes_from(list(clusters))\n",
    "    nx.set_node_attributes(graph, {cluster: \n",
    "                                   {'nodes': nodes,\n",
    "                                    'state': sum([state for _, state in raw.subgraph(nodes).nodes.data('state')])}\n",
    "                                  for cluster, nodes in clusters.items()})\n",
    "    nx.set_edge_attributes(graph,\n",
    "                           {(cluster, neighbor): {'weight': weight}\n",
    "                           for cluster, nodes in clusters.items()\n",
    "                            for neighbor, weight in _cluster_edges(raw.nodes.data('cluster'),\n",
    "                                                                    raw.edges(nodes, data='weight'))})\n",
    "    \n",
    "    return graph"
   ]
  },
  {
   "cell_type": "code",
   "execution_count": 18,
   "metadata": {},
   "outputs": [],
   "source": [
    "def diclustered(graph):\n",
    "    \n",
    "    digraph = nx.DiGraph(graph)\n",
    "    full_weights = dict((node, sum([weight for _, _, weight in graph.edges(node, data='weight')])) for node in graph)\n",
    "    nx.set_edge_attributes(digraph,\n",
    "                           {(cluster, neighbor): {'weight': weight / full_weights[node]}\n",
    "                            for node in graph.nodes for cluster, neighbor, weight in graph.edges(node, data='weight')})\n",
    "    \n",
    "    return digraph"
   ]
  },
  {
   "cell_type": "code",
   "execution_count": 19,
   "metadata": {},
   "outputs": [],
   "source": [
    "def clustering(network, steps=1000, temperatures=np.linspace(.5, 5, 10), digraphs=False):\n",
    "    \n",
    "    num_nodes = len(network)\n",
    "    adjacency = nx.to_scipy_sparse_array(network, dtype=float)\n",
    "    states, adjacency = steady_state(adjacency)\n",
    "    joint = joint_distribution(states, adjacency)\n",
    "    full_joint = (joint + joint.T).tolil()\n",
    "    full_joint.setdiag(full_joint.diagonal() / 2)\n",
    "    \n",
    "    raw_graph = nx.from_scipy_sparse_array(full_joint) \n",
    "    nx.set_node_attributes(raw_graph, dict(zip(raw_graph, states)), name='state')\n",
    "    nx.set_node_attributes(raw_graph, dict((node, [node]) for node in raw_graph), name='original_nodes')\n",
    "    nx.set_node_attributes(raw_graph, dict(zip(raw_graph, raw_graph)), name='cluster')\n",
    "\n",
    "    clustered_graph = louvain(raw_graph)\n",
    "    member_graph = membership_graph(raw_graph, clustered_graph)\n",
    "    raw_graph = nx.from_scipy_sparse_array(adjacency)\n",
    "    nx.set_node_attributes(raw_graph, member_graph.nodes)\n",
    "    best_result = objective(raw_graph)\n",
    "    best_graph = raw_graph\n",
    "\n",
    "    \n",
    "    for temperature in temperatures:\n",
    "        heated = heat_bath(raw_graph.copy(), steps, temperature)\n",
    "        result = objective(heated)\n",
    "        if result > best_result:\n",
    "            print('+', result - best_result)\n",
    "            best_result = result\n",
    "            best_graph = heated\n",
    "            \n",
    "    clustered_graph = joint_graph(best_graph, directed=network.is_directed())\n",
    "\n",
    "    if digraphs:\n",
    "        return diclustered(best_graph), diclustered(clustered_graph)\n",
    "    \n",
    "    return best_graph, clustered_graph"
   ]
  },
  {
   "cell_type": "code",
   "execution_count": 19,
   "metadata": {},
   "outputs": [
    {
     "name": "stdout",
     "output_type": "stream",
     "text": [
      "Graph with 34 nodes and 78 edges\n",
      "Graph with 15 nodes and 38 edges\n",
      "Graph with 13 nodes and 30 edges\n"
     ]
    },
    {
     "data": {
      "text/plain": [
       "(34, 13)"
      ]
     },
     "execution_count": 19,
     "metadata": {},
     "output_type": "execute_result"
    }
   ],
   "source": [
    "g, c = clustering(nx.karate_club_graph())\n",
    "len(g), len(c)"
   ]
  },
  {
   "cell_type": "code",
   "execution_count": 20,
   "metadata": {},
   "outputs": [],
   "source": [
    "def load_graph(filename):\n",
    "    \n",
    "    path = os.path.join(\"data\", filename + \"_edges.csv\")\n",
    "    df = pd.read_csv(path)\n",
    "    pretarget = \"id_\" if \"musae\" in filename else \"node_\"\n",
    "    \n",
    "    return nx.from_pandas_edgelist(df, source=pretarget + '1', target=pretarget + '2')"
   ]
  },
  {
   "cell_type": "code",
   "execution_count": 27,
   "metadata": {},
   "outputs": [
    {
     "name": "stdout",
     "output_type": "stream",
     "text": [
      "Graph with 146005 nodes and 656999 edges\n",
      "Graph with 21301 nodes and 134197 edges\n",
      "Graph with 8088 nodes and 91422 edges\n",
      "Graph with 7712 nodes and 89226 edges\n",
      "+ 0.002800805452057631\n"
     ]
    },
    {
     "data": {
      "text/plain": [
       "(146005, 7711)"
      ]
     },
     "execution_count": 27,
     "metadata": {},
     "output_type": "execute_result"
    }
   ],
   "source": [
    "G = load_graph('wordnet')\n",
    "a, b = clustering(G)\n",
    "len(a), len(b)"
   ]
  },
  {
   "cell_type": "code",
   "execution_count": 28,
   "metadata": {},
   "outputs": [
    {
     "data": {
      "text/plain": [
       "0.9406043314745169"
      ]
     },
     "execution_count": 28,
     "metadata": {},
     "output_type": "execute_result"
    }
   ],
   "source": [
    "len(list(filter(lambda x: len(x) >= 3, nx.get_node_attributes(b, 'nodes').values()))) / len(b)"
   ]
  },
  {
   "cell_type": "code",
   "execution_count": 29,
   "metadata": {},
   "outputs": [
    {
     "data": {
      "image/png": "[encoded data removed]",
      "text/plain": [
       "<Figure size 432x288 with 1 Axes>"
      ]
     },
     "metadata": {
      "needs_background": "light"
     },
     "output_type": "display_data"
    }
   ],
   "source": [
    "p = sns.histplot(x=list(filter(lambda x: x >= 3, map(len, nx.get_node_attributes(b, 'nodes').values()))),\n",
    "                 stat='proportion', log_scale=True, bins=np.linspace(.3, 3, 28))"
   ]
  },
  {
   "cell_type": "code",
   "execution_count": null,
   "metadata": {},
   "outputs": [],
   "source": []
  },
  {
   "cell_type": "code",
   "execution_count": 24,
   "metadata": {},
   "outputs": [
    {
     "name": "stdout",
     "output_type": "stream",
     "text": [
      "Graph with 7624 nodes and 27806 edges\n",
      "Graph with 1489 nodes and 8531 edges\n",
      "Graph with 663 nodes and 5037 edges\n",
      "Graph with 623 nodes and 4541 edges\n"
     ]
    }
   ],
   "source": [
    "G = load_graph('lastfm_asia')\n",
    "%lprun -f louvain -f objective_change -f objective_part -f _cluster_edges clustering(G)"
   ]
  },
  {
   "cell_type": "code",
   "execution_count": null,
   "metadata": {},
   "outputs": [],
   "source": []
  }
 ],
 "metadata": {
  "kernelspec": {
   "display_name": "Python [conda env:networks] *",
   "language": "python",
   "name": "conda-env-networks-py"
  },
  "language_info": {
   "codemirror_mode": {
    "name": "ipython",
    "version": 3
   },
   "file_extension": ".py",
   "mimetype": "text/x-python",
   "name": "python",
   "nbconvert_exporter": "python",
   "pygments_lexer": "ipython3",
   "version": "3.10.4"
  }
 },
 "nbformat": 4,
 "nbformat_minor": 1
}
